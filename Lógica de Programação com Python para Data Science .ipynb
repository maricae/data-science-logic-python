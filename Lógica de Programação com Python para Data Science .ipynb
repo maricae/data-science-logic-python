{
 "cells": [
  {
   "cell_type": "markdown",
   "id": "a1964dfe",
   "metadata": {},
   "source": [
    "## Lógica de Programação com Python para Data Science "
   ]
  },
  {
   "cell_type": "markdown",
   "id": "47a1fb26",
   "metadata": {},
   "source": [
    "#### Lógica Básica, Print e Declarar variáveis:"
   ]
  },
  {
   "cell_type": "code",
   "execution_count": 41,
   "id": "b2432089",
   "metadata": {},
   "outputs": [
    {
     "name": "stdout",
     "output_type": "stream",
     "text": [
      "B é maior que A\n"
     ]
    }
   ],
   "source": [
    "A = 20\n",
    "B = 500\n",
    "if B > A:\n",
    "  print(\"B é maior que A\")"
   ]
  },
  {
   "cell_type": "code",
   "execution_count": 42,
   "id": "88e20190",
   "metadata": {},
   "outputs": [
    {
     "name": "stdout",
     "output_type": "stream",
     "text": [
      "B é maior que A\n"
     ]
    }
   ],
   "source": [
    "A = 20\n",
    "B = 500\n",
    "if B > A:\n",
    "  print(\"B é maior que A\")\n",
    "elif A == B:\n",
    "  print(\"A e B são iguais\")"
   ]
  },
  {
   "cell_type": "code",
   "execution_count": 43,
   "id": "1249d876",
   "metadata": {},
   "outputs": [
    {
     "name": "stdout",
     "output_type": "stream",
     "text": [
      "A é maior que B\n"
     ]
    }
   ],
   "source": [
    "A = 500\n",
    "B = 20\n",
    "if B > A:\n",
    "  print(\"B é maior que A\")\n",
    "elif A == B:\n",
    "  print(\"A e B são iguais\")\n",
    "else:\n",
    "  print(\"A é maior que B\")"
   ]
  },
  {
   "cell_type": "code",
   "execution_count": 44,
   "id": "eeca2609",
   "metadata": {},
   "outputs": [
    {
     "data": {
      "text/plain": [
       "10"
      ]
     },
     "execution_count": 44,
     "metadata": {},
     "output_type": "execute_result"
    }
   ],
   "source": [
    "A=2\n",
    "\n",
    "if A < 2:\n",
    " A = A + 1\n",
    "else:\n",
    " A = A + 2\n",
    "if A < 4:\n",
    " A = A - 4\n",
    "else:\n",
    " A = A + 6\n",
    "\n",
    "A"
   ]
  },
  {
   "cell_type": "code",
   "execution_count": 47,
   "id": "75b4d679",
   "metadata": {},
   "outputs": [
    {
     "name": "stdout",
     "output_type": "stream",
     "text": [
      "Meu nome é Mariana e sou Cientista de Dados.\n"
     ]
    }
   ],
   "source": [
    "nome = 'Mariana'\n",
    "profissao = 'Cientista de Dados'\n",
    "print(f'Meu nome é {nome} e sou {profissao}.')"
   ]
  },
  {
   "cell_type": "code",
   "execution_count": 54,
   "id": "7243a30c",
   "metadata": {},
   "outputs": [
    {
     "name": "stdout",
     "output_type": "stream",
     "text": [
      "Faturamento do primeiro ano: 10\n",
      "Faturamento do segundo ano: 5\n",
      "A variação foi de -50.00%\n",
      "É, precisamos melhorar nossos indicadores.\n"
     ]
    }
   ],
   "source": [
    "f1 = float(input('Faturamento do primeiro ano: '))\n",
    "f2 = float(input('Faturamento do segundo ano: '))\n",
    "variacao = ((f2 - f1)/f1)*100\n",
    "print('A variação foi de {:.2f}%'.format(variacao))\n",
    "if variacao >= 100:\n",
    "    print('Muito bom!! Dobramos nosso faturamento!')\n",
    "else:\n",
    "    print('É, precisamos melhorar nossos indicadores.')"
   ]
  },
  {
   "cell_type": "code",
   "execution_count": 55,
   "id": "720d337d",
   "metadata": {},
   "outputs": [
    {
     "name": "stdout",
     "output_type": "stream",
     "text": [
      "Qual o número de vendas com chargeback? 34536\n",
      "Qual a taxa de chargeback? 1.7\n",
      "O preço da sua multa será de R$172680.0\n"
     ]
    }
   ],
   "source": [
    "chargeback = float(input('Qual o número de vendas com chargeback? '))\n",
    "taxa_chargeback = float(input('Qual a taxa de chargeback? '))\n",
    "if taxa_chargeback >= 1.5:\n",
    "    print('O preço da sua multa será de R${}'.format(chargeback*5))\n",
    "else:\n",
    "    print('Não será multado')"
   ]
  },
  {
   "cell_type": "markdown",
   "id": "9c0a2674",
   "metadata": {},
   "source": [
    "#### Criando funções:"
   ]
  },
  {
   "cell_type": "code",
   "execution_count": 58,
   "id": "d8f570a4",
   "metadata": {},
   "outputs": [
    {
     "name": "stdout",
     "output_type": "stream",
     "text": [
      "Qual o seu nome? Mari\n",
      "Olá, Mari! Tudo bem com você?\n"
     ]
    }
   ],
   "source": [
    "def saudacao():\n",
    "    nome = input('Qual o seu nome? ')\n",
    "    print(f'Olá, {nome}! Tudo bem com você?')\n",
    "\n",
    "saudacao()"
   ]
  },
  {
   "cell_type": "code",
   "execution_count": 59,
   "id": "e3be1b5e",
   "metadata": {},
   "outputs": [
    {
     "name": "stdout",
     "output_type": "stream",
     "text": [
      "Qual seu primeiro nome? Mariana\n",
      "Qual seu sobrenome? Caetano\n",
      "Mariana Caetano\n"
     ]
    }
   ],
   "source": [
    "def nome_completo(): \n",
    " primeiro_nome = input('Qual seu primeiro nome? ')\n",
    " sobrenome = input('Qual seu sobrenome? ')\n",
    " nome_inteiro = primeiro_nome + ' ' + sobrenome\n",
    " print(nome_inteiro)\n",
    "\n",
    "nome_completo()"
   ]
  },
  {
   "cell_type": "code",
   "execution_count": 60,
   "id": "22ef5083",
   "metadata": {},
   "outputs": [
    {
     "name": "stdout",
     "output_type": "stream",
     "text": [
      "Olá, Mariana! Tudo bem com você?\n"
     ]
    }
   ],
   "source": [
    "# Função com Parâmetro\n",
    "\n",
    "nome = 'Mariana'\n",
    "\n",
    "def saudacao_com_parametros(nome_da_pessoa):\n",
    "    print(f'Olá, {nome_da_pessoa}! Tudo bem com você?')\n",
    "    \n",
    "saudacao_com_parametros(nome)"
   ]
  },
  {
   "cell_type": "code",
   "execution_count": 90,
   "id": "d6325746",
   "metadata": {},
   "outputs": [
    {
     "name": "stdout",
     "output_type": "stream",
     "text": [
      "Saldo parcialmente bloqueado!\n"
     ]
    }
   ],
   "source": [
    "# Função com Condicional\n",
    "\n",
    "taxa_chargeback = 3\n",
    "\n",
    "def verificacao_saque(taxa_chargeback):\n",
    "    if taxa_chargeback >= 1.5:\n",
    "        print('Saldo parcialmente bloqueado!')\n",
    "    else:\n",
    "        print('Saldo liberado!')\n",
    "        \n",
    "verificacao_saque(taxa_chargeback)"
   ]
  },
  {
   "cell_type": "code",
   "execution_count": 91,
   "id": "7adbbee2",
   "metadata": {},
   "outputs": [
    {
     "name": "stdout",
     "output_type": "stream",
     "text": [
      "Qual sua taxa de chargeback? 3\n",
      "Saldo parcialmente bloqueado!\n"
     ]
    }
   ],
   "source": [
    "# Conversão de tipo de dado\n",
    "\n",
    "def verificacao_saque_sem_parametros():\n",
    "    taxa_chargeback = input('Qual sua taxa de chargeback? ')\n",
    "    taxa_chargeback = int(taxa_chargeback)\n",
    "    if taxa_chargeback >= 1.5:\n",
    "        print('Saldo parcialmente bloqueado!')\n",
    "    else:\n",
    "        print('Saldo liberado!')\n",
    "        \n",
    "verificacao_saque_sem_parametros()"
   ]
  },
  {
   "cell_type": "code",
   "execution_count": 95,
   "id": "9b3b37db",
   "metadata": {},
   "outputs": [
    {
     "name": "stdout",
     "output_type": "stream",
     "text": [
      "Qual sua taxa de chargeback? 10\n",
      "Reduza sua taxa de chargeback em 8.51 p.p para o saque integral.\n"
     ]
    }
   ],
   "source": [
    "def saque():\n",
    "    taxa_chargeback = input('Qual sua taxa de chargeback? ')\n",
    "    taxa_chargeback = int(taxa_chargeback)\n",
    "    if taxa_chargeback < 1.5:\n",
    "        print('Saldo liberado!')\n",
    "    else:\n",
    "        reducao = taxa_chargeback - 1.49\n",
    "        print(f'Reduza sua taxa de chargeback em {reducao} p.p para o saque integral.')\n",
    "\n",
    "saque()"
   ]
  },
  {
   "cell_type": "markdown",
   "id": "98257f92",
   "metadata": {},
   "source": [
    "#### Listas"
   ]
  },
  {
   "cell_type": "code",
   "execution_count": 96,
   "id": "b8719a8f",
   "metadata": {},
   "outputs": [
    {
     "name": "stdout",
     "output_type": "stream",
     "text": [
      "25 <class 'int'>\n",
      "Mariana <class 'str'>\n"
     ]
    }
   ],
   "source": [
    "idade = 25\n",
    "nome = 'Mariana'\n",
    "print(idade, type(idade))\n",
    "print(nome, type(nome))"
   ]
  },
  {
   "cell_type": "code",
   "execution_count": 6,
   "id": "7874cd03",
   "metadata": {},
   "outputs": [
    {
     "data": {
      "text/plain": [
       "list"
      ]
     },
     "execution_count": 6,
     "metadata": {},
     "output_type": "execute_result"
    }
   ],
   "source": [
    "idades = [18,22,15,50]\n",
    "type(idades)"
   ]
  },
  {
   "cell_type": "code",
   "execution_count": 8,
   "id": "0eb534ba",
   "metadata": {},
   "outputs": [],
   "source": [
    "idades = [18,22,15,50]\n",
    "#          0  1  2  3\n",
    "#          0 -3 -2 -1"
   ]
  },
  {
   "cell_type": "code",
   "execution_count": 32,
   "id": "4cb1fc4d",
   "metadata": {
    "scrolled": true
   },
   "outputs": [
    {
     "name": "stdout",
     "output_type": "stream",
     "text": [
      "40\n",
      "[20, 14]\n",
      "[20, 14, 40]\n",
      "[14, 40]\n",
      "40\n"
     ]
    }
   ],
   "source": [
    "print(idades[2])\n",
    "print(idades[0:2]) ## O último elemento ele exclui\n",
    "print(idades[0:3]) ## Pra pegar só os 3 primeiros\n",
    "print(idades[1:])\n",
    "print(idades[-1])"
   ]
  },
  {
   "cell_type": "code",
   "execution_count": 75,
   "id": "c11f8335",
   "metadata": {},
   "outputs": [
    {
     "name": "stdout",
     "output_type": "stream",
     "text": [
      "Mariana Caetano Vidal\n",
      "Mariana Caetano Vidal\n"
     ]
    }
   ],
   "source": [
    "meu_nome = ['Caetano ', 'Mariana ', 'Vidal']\n",
    "print(meu_nome[-2] + meu_nome[-3] + meu_nome[-1])\n",
    "print(meu_nome[1] + meu_nome[0] + meu_nome[2])"
   ]
  },
  {
   "cell_type": "markdown",
   "id": "15295ce7",
   "metadata": {},
   "source": [
    "#### Laços e Loops"
   ]
  },
  {
   "cell_type": "code",
   "execution_count": 102,
   "id": "72b5e06c",
   "metadata": {
    "scrolled": true
   },
   "outputs": [],
   "source": [
    "taxas = [3,1,0.3,9,0.8]"
   ]
  },
  {
   "cell_type": "code",
   "execution_count": 106,
   "id": "5f3e13da",
   "metadata": {},
   "outputs": [
    {
     "name": "stdout",
     "output_type": "stream",
     "text": [
      "Sua taxa de chargeback é de 3%. Você terá o saldo parcialmente bloqueado por 180 dias.\n",
      "Sua taxa de chargeback é de 1%. O seu saldo está liberado.\n",
      "Sua taxa de chargeback é de 0.3%. O seu saldo está liberado.\n",
      "Sua taxa de chargeback é de 9%. Você terá o saldo parcialmente bloqueado por 180 dias.\n",
      "Sua taxa de chargeback é de 0.8%. O seu saldo está liberado.\n"
     ]
    }
   ],
   "source": [
    "# for fora da função\n",
    "\n",
    "def verificacao_saque(taxa):\n",
    "    if taxa >= 1.5:\n",
    "        print(f'Sua taxa de chargeback é de {taxa}%. Você terá o saldo parcialmente bloqueado por 180 dias.')\n",
    "    elif taxa >= 5:\n",
    "        print(f'Sua taxa de chargeback é de {taxa}%. Você terá o saldo integralmente bloqueado por 90 dias.')\n",
    "    else:\n",
    "        print(f'Sua taxa de chargeback é de {taxa}%. O seu saldo está liberado.')\n",
    "        \n",
    "# Para cada idade na nossa lista:\n",
    "for taxa in taxas:\n",
    "    verificacao_saque(taxa)"
   ]
  },
  {
   "cell_type": "code",
   "execution_count": 107,
   "id": "02a8489f",
   "metadata": {},
   "outputs": [
    {
     "name": "stdout",
     "output_type": "stream",
     "text": [
      "Sua taxa de chargeback é de 3%. Você terá o saldo parcialmente bloqueado por 180 dias.\n",
      "Sua taxa de chargeback é de 1%. O seu saldo está liberado.\n",
      "Sua taxa de chargeback é de 0.3%. O seu saldo está liberado.\n",
      "Sua taxa de chargeback é de 9%. Você terá o saldo parcialmente bloqueado por 180 dias.\n",
      "Sua taxa de chargeback é de 0.8%. O seu saldo está liberado.\n"
     ]
    }
   ],
   "source": [
    "# for dentro da função\n",
    "\n",
    "def verificacao_saque(taxa):\n",
    "    for taxa in taxas:\n",
    "        if taxa >= 1.5:\n",
    "            print(f'Sua taxa de chargeback é de {taxa}%. Você terá o saldo parcialmente bloqueado por 180 dias.')\n",
    "        elif taxa >= 5:\n",
    "            print(f'Sua taxa de chargeback é de {taxa}%. Você terá o saldo integralmente bloqueado por 90 dias.')\n",
    "        else:\n",
    "            print(f'Sua taxa de chargeback é de {taxa}%. O seu saldo está liberado.')\n",
    "        \n",
    "verificacao_saque(taxa)"
   ]
  },
  {
   "cell_type": "markdown",
   "id": "a009ebb3",
   "metadata": {},
   "source": [
    "#### Booleano"
   ]
  },
  {
   "cell_type": "code",
   "execution_count": 112,
   "id": "df0de51d",
   "metadata": {},
   "outputs": [
    {
     "data": {
      "text/plain": [
       "True"
      ]
     },
     "execution_count": 112,
     "metadata": {},
     "output_type": "execute_result"
    }
   ],
   "source": [
    "taxa > 1\n",
    "taxa <= 3"
   ]
  },
  {
   "cell_type": "code",
   "execution_count": 111,
   "id": "2bcc7cc1",
   "metadata": {},
   "outputs": [
    {
     "data": {
      "text/plain": [
       "False"
      ]
     },
     "execution_count": 111,
     "metadata": {},
     "output_type": "execute_result"
    }
   ],
   "source": [
    "taxa > 3\n",
    "taxa < 2"
   ]
  },
  {
   "cell_type": "code",
   "execution_count": 118,
   "id": "8afd02c0",
   "metadata": {},
   "outputs": [],
   "source": [
    "saldo_bloqueado = []\n",
    "taxas = [3,1,0.3]\n",
    "\n",
    "def verificacao_saque(taxas, saldo_bloqueado):\n",
    "    for taxa in taxas:\n",
    "        if taxa >= 1.5:\n",
    "            saldo_bloqueado.append(True)\n",
    "        else:\n",
    "            saldo_bloqueado.append(False)\n",
    "            \n",
    "verificacao_saque(taxas, saldo_bloqueado)"
   ]
  },
  {
   "cell_type": "code",
   "execution_count": 119,
   "id": "3c7296ff",
   "metadata": {},
   "outputs": [
    {
     "data": {
      "text/plain": [
       "[True, False, False]"
      ]
     },
     "execution_count": 119,
     "metadata": {},
     "output_type": "execute_result"
    }
   ],
   "source": [
    "saldo_bloqueado"
   ]
  },
  {
   "cell_type": "code",
   "execution_count": 121,
   "id": "542ac82a",
   "metadata": {},
   "outputs": [
    {
     "name": "stdout",
     "output_type": "stream",
     "text": [
      "Saldo parcialmente bloqueado\n",
      "Saldo liberado\n",
      "Saldo liberado\n"
     ]
    }
   ],
   "source": [
    "for saldo in saldo_bloqueado:\n",
    "    if saldo == True:\n",
    "        print('Saldo parcialmente bloqueado')\n",
    "    else:\n",
    "        print('Saldo liberado')"
   ]
  },
  {
   "cell_type": "markdown",
   "id": "9fe1339c",
   "metadata": {},
   "source": [
    "#### Diferentes tipos em uma lista"
   ]
  },
  {
   "cell_type": "code",
   "execution_count": 81,
   "id": "6b98eec6",
   "metadata": {
    "scrolled": true
   },
   "outputs": [
    {
     "name": "stdout",
     "output_type": "stream",
     "text": [
      "O elemento Mariana é do tipo:  <class 'str'>\n",
      "O elemento 24 é do tipo:  <class 'int'>\n",
      "O elemento True é do tipo:  <class 'bool'>\n",
      "O elemento 18 é do tipo:  <class 'str'>\n"
     ]
    }
   ],
   "source": [
    "lista = ['Mariana', 24, True, '18']\n",
    "\n",
    "for elemento in lista:\n",
    "    print(f'O elemento {elemento} é do tipo: ',  type(elemento))"
   ]
  },
  {
   "cell_type": "code",
   "execution_count": 82,
   "id": "4a8160a6",
   "metadata": {
    "scrolled": true
   },
   "outputs": [
    {
     "name": "stdout",
     "output_type": "stream",
     "text": [
      "<class 'str'>\n",
      "<class 'bool'>\n",
      "<class 'bool'>\n",
      "<class 'str'>\n",
      "<class 'int'>\n"
     ]
    }
   ],
   "source": [
    "lista = ['int', False, True, '18', 2020]\n",
    "\n",
    "for elemento in lista:\n",
    " print(type(elemento))"
   ]
  }
 ],
 "metadata": {
  "kernelspec": {
   "display_name": "Python 3 (ipykernel)",
   "language": "python",
   "name": "python3"
  },
  "language_info": {
   "codemirror_mode": {
    "name": "ipython",
    "version": 3
   },
   "file_extension": ".py",
   "mimetype": "text/x-python",
   "name": "python",
   "nbconvert_exporter": "python",
   "pygments_lexer": "ipython3",
   "version": "3.9.13"
  }
 },
 "nbformat": 4,
 "nbformat_minor": 5
}
